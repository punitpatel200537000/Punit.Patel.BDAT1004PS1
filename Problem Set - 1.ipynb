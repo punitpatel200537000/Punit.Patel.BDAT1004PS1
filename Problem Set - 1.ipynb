{
 "cells": [
  {
   "cell_type": "markdown",
   "id": "7a5cf41f",
   "metadata": {},
   "source": [
    "# Name : Punit Patel <br> Course : BDAT<br> Subject : Data Programming 1004-02 <br> Professor : Ethan D. Davis"
   ]
  },
  {
   "cell_type": "markdown",
   "id": "07636a13",
   "metadata": {},
   "source": [
    "### <font color='blue'>Question-1 : What data type is each of the following (evaluate where necessary)?</font>"
   ]
  },
  {
   "cell_type": "code",
   "execution_count": 1,
   "id": "3c971b24",
   "metadata": {},
   "outputs": [
    {
     "name": "stdout",
     "output_type": "stream",
     "text": [
      "<class 'int'>\n"
     ]
    }
   ],
   "source": [
    "# a)\n",
    "print(type(5))"
   ]
  },
  {
   "cell_type": "code",
   "execution_count": 2,
   "id": "353b06a6",
   "metadata": {},
   "outputs": [
    {
     "name": "stdout",
     "output_type": "stream",
     "text": [
      "<class 'float'>\n"
     ]
    }
   ],
   "source": [
    "# b)\n",
    "print(type(5.0))"
   ]
  },
  {
   "cell_type": "code",
   "execution_count": 3,
   "id": "4e36b20f",
   "metadata": {},
   "outputs": [
    {
     "name": "stdout",
     "output_type": "stream",
     "text": [
      "<class 'bool'>\n"
     ]
    }
   ],
   "source": [
    "# c)\n",
    "print(type( 5 > 1 ))"
   ]
  },
  {
   "cell_type": "code",
   "execution_count": 4,
   "id": "ba1eed4b",
   "metadata": {},
   "outputs": [
    {
     "name": "stdout",
     "output_type": "stream",
     "text": [
      "<class 'str'>\n"
     ]
    }
   ],
   "source": [
    "# d)\n",
    "print(type('5'))"
   ]
  },
  {
   "cell_type": "code",
   "execution_count": 5,
   "id": "375d30ba",
   "metadata": {},
   "outputs": [
    {
     "name": "stdout",
     "output_type": "stream",
     "text": [
      "<class 'int'>\n"
     ]
    }
   ],
   "source": [
    "# e)\n",
    "print(type( 5 * 2 ))"
   ]
  },
  {
   "cell_type": "code",
   "execution_count": 6,
   "id": "066ed8bc",
   "metadata": {},
   "outputs": [
    {
     "name": "stdout",
     "output_type": "stream",
     "text": [
      "<class 'str'>\n"
     ]
    }
   ],
   "source": [
    "# f)\n",
    "print(type( '5' * 2 ))"
   ]
  },
  {
   "cell_type": "code",
   "execution_count": 7,
   "id": "b71f76be",
   "metadata": {},
   "outputs": [
    {
     "name": "stdout",
     "output_type": "stream",
     "text": [
      "<class 'str'>\n"
     ]
    }
   ],
   "source": [
    "# g)\n",
    "print(type( '5' + '2' ))"
   ]
  },
  {
   "cell_type": "code",
   "execution_count": 8,
   "id": "b4bf03c9",
   "metadata": {},
   "outputs": [
    {
     "name": "stdout",
     "output_type": "stream",
     "text": [
      "<class 'float'>\n"
     ]
    }
   ],
   "source": [
    "# h)\n",
    "print(type( 5 / 2 ))"
   ]
  },
  {
   "cell_type": "code",
   "execution_count": 9,
   "id": "008d7111",
   "metadata": {},
   "outputs": [
    {
     "name": "stdout",
     "output_type": "stream",
     "text": [
      "<class 'int'>\n"
     ]
    }
   ],
   "source": [
    "# i)\n",
    "print(type( 5 % 2 ))"
   ]
  },
  {
   "cell_type": "code",
   "execution_count": 10,
   "id": "4201ab52",
   "metadata": {},
   "outputs": [
    {
     "name": "stdout",
     "output_type": "stream",
     "text": [
      "<class 'set'>\n"
     ]
    }
   ],
   "source": [
    "# j)\n",
    "print(type( { 5, 2, 1} ))"
   ]
  },
  {
   "cell_type": "code",
   "execution_count": 11,
   "id": "00ed6f45",
   "metadata": {},
   "outputs": [
    {
     "name": "stdout",
     "output_type": "stream",
     "text": [
      "<class 'bool'>\n"
     ]
    }
   ],
   "source": [
    "# k)\n",
    "print(type( 5 == 3 ))"
   ]
  },
  {
   "cell_type": "code",
   "execution_count": 12,
   "id": "8436516a",
   "metadata": {},
   "outputs": [
    {
     "name": "stdout",
     "output_type": "stream",
     "text": [
      "<class 'float'>\n"
     ]
    }
   ],
   "source": [
    "# l)\n",
    "import math\n",
    "print(type(math.pi))"
   ]
  },
  {
   "cell_type": "markdown",
   "id": "8bb9d3f7",
   "metadata": {},
   "source": [
    "### <font color='blue'>Question-2 : Write (and evaluate) python expressions that answer these questions:</font>"
   ]
  },
  {
   "cell_type": "markdown",
   "id": "06bc7d2a",
   "metadata": {},
   "source": [
    "#### <font color='green'> a) How many letters are there in 'Supercalifragilisticexpialidocious'?</font>"
   ]
  },
  {
   "cell_type": "code",
   "execution_count": 13,
   "id": "bf1be94f",
   "metadata": {},
   "outputs": [
    {
     "name": "stdout",
     "output_type": "stream",
     "text": [
      "34\n"
     ]
    }
   ],
   "source": [
    "var1 = 'Supercalifragilisticexpialidocious'\n",
    "print(len(var1))"
   ]
  },
  {
   "cell_type": "markdown",
   "id": "f0759623",
   "metadata": {},
   "source": [
    "#### <font color='green'> b) Does 'Supercalifragilisticexpialidocious' contain 'ice' as a substring?</font>"
   ]
  },
  {
   "cell_type": "code",
   "execution_count": 14,
   "id": "6eccf7b5",
   "metadata": {},
   "outputs": [
    {
     "name": "stdout",
     "output_type": "stream",
     "text": [
      "Supercalifragilisticexpialidocious is containing ice as substring.\n"
     ]
    }
   ],
   "source": [
    "var2 = 'Supercalifragilisticexpialidocious'\n",
    "if 'ice' in var2:\n",
    "    print(var2 + \" is containing ice as substring.\")\n",
    "else:\n",
    "    print(var2 + \" is not containing ice as substring.\")"
   ]
  },
  {
   "cell_type": "markdown",
   "id": "7552f759",
   "metadata": {},
   "source": [
    "#### <font color='green'> c) Which of the following words is the longest: Supercalifragilisticexpialidocious, Honorificabilitudinitatibus, or Bababadalgharaghtakamminarronnkonn?</font>"
   ]
  },
  {
   "cell_type": "code",
   "execution_count": 51,
   "id": "80759c0b",
   "metadata": {},
   "outputs": [
    {
     "name": "stdout",
     "output_type": "stream",
     "text": [
      "The longest words are :Supercalifragilisticexpialidocious and Bababadalgharaghtakamminarronnkonn\n"
     ]
    }
   ],
   "source": [
    "var3 = 'Supercalifragilisticexpialidocious'\n",
    "var4 = 'Honorificabilitudinitatibus'\n",
    "var5 = 'Bababadalgharaghtakamminarronnkonn'\n",
    "LengthWord1=len(var3)\n",
    "LengthWord2=len(var4)\n",
    "LengthWord3=len(var5)\n",
    "if LengthWord1 > LengthWord2 and LengthWord1 > LengthWord3: # Print if var3 is longest\n",
    "    print('The longest word is :' + var3)\n",
    "elif LengthWord2 > LengthWord1 and LengthWord2 > LengthWord3: # Print if var4 is longest\n",
    "    print('The longest word is :' + var4)\n",
    "elif LengthWord3 > LengthWord2 and LengthWord3 > LengthWord1: # Print if var5 is longest\n",
    "    print('The longest word is :' + var5)\n",
    "elif LengthWord1 == LengthWord2 and LengthWord1 > LengthWord3: # Print if var3 and var4 longest\n",
    "    print('The longest words are :' + var3 + ' and ' + var4)\n",
    "elif LengthWord2 == LengthWord3 and LengthWord2 > LengthWord1: # Print if var4 and var5 longest\n",
    "    print('The longest words are :' + var4 + ' and ' + var5)\n",
    "elif LengthWord3 == LengthWord1 and LengthWord3 > LengthWord2: # Print if var3 and var5 longest\n",
    "    print('The longest words are :' + var3 + ' and ' + var5)\n",
    "else: # Print if all are in same length\n",
    "    print('All words have same length.')"
   ]
  },
  {
   "cell_type": "markdown",
   "id": "72dcf6ee",
   "metadata": {},
   "source": [
    "#### <font color='green'> d) Which composer comes first in the dictionary: 'Berlioz', 'Borodin', 'Brian', 'Bartok', 'Bellini', 'Buxtehude', 'Bernstein'. Which one comes last?</font>"
   ]
  },
  {
   "cell_type": "code",
   "execution_count": 16,
   "id": "bd8b67fc",
   "metadata": {},
   "outputs": [
    {
     "name": "stdout",
     "output_type": "stream",
     "text": [
      "Original dictionary:  ['Berlioz', 'Borodin', 'Brian', 'Bartok', 'Bellini', 'Buxtehude', 'Bernstein']\n",
      "Composed dictionary:  ['Bartok', 'Bellini', 'Berlioz', 'Bernstein', 'Borodin', 'Brian', 'Buxtehude']\n",
      "First composer is Bartok\n",
      "Last composer is Buxtehude\n"
     ]
    }
   ],
   "source": [
    "list1 = [ 'Berlioz', 'Borodin', 'Brian', 'Bartok', 'Bellini', 'Buxtehude', 'Bernstein']\n",
    "SortedList = sorted(list1)\n",
    "\n",
    "# Print original dictionary\n",
    "print('Original dictionary: ', list1)\n",
    "\n",
    "# Print composed dictionary\n",
    "print('Composed dictionary: ', SortedList)\n",
    "\n",
    "# Print first composer\n",
    "print('First composer is ' + SortedList[0])\n",
    "\n",
    "# Print last composer\n",
    "print('Last composer is ' + SortedList[-1])"
   ]
  },
  {
   "cell_type": "markdown",
   "id": "8bb309bf",
   "metadata": {},
   "source": [
    "### <font color='blue'> Question-3: Implement function triangleArea(a,b,c) that takes as input the lengths of the 3 sides of a triangle and returns the area of the triangle. By Heron's formula, the area of a triangle with side lengths a, b, and c is s(s - a)(s -b)(s -c), where s = (a +b + c) /2.</font>"
   ]
  },
  {
   "cell_type": "code",
   "execution_count": 17,
   "id": "221abb2d",
   "metadata": {},
   "outputs": [
    {
     "name": "stdout",
     "output_type": "stream",
     "text": [
      "Enter the length of side A in triangle : 10\n",
      "Enter the length of side B in triangle : 12\n",
      "Enter the length of side C in triangle : 16\n",
      "Area of the triangle is  59.924953066314536\n"
     ]
    }
   ],
   "source": [
    "# Enter the lenght of sides in triangle\n",
    "TriangleSideA = int(input('Enter the length of side A in triangle : '))\n",
    "TriangleSideB = int(input('Enter the length of side B in triangle : '))\n",
    "TriangleSideC = int(input('Enter the length of side C in triangle : '))\n",
    "\n",
    "# Function to find triangle area\n",
    "def triangleArea(a=0, b=0, c=0):\n",
    "    # Heron's formula\n",
    "    s = (a+b+c)/2\n",
    "    TriangleArea = math.sqrt(s*(s-a)*(s-b)*(s-c))\n",
    "    return TriangleArea # return area of triangle\n",
    "\n",
    "# Call function\n",
    "AreaOfTriangle = triangleArea( TriangleSideA, TriangleSideB, TriangleSideC)\n",
    "# Print area of triangle\n",
    "print('Area of the triangle is ', AreaOfTriangle)"
   ]
  },
  {
   "cell_type": "markdown",
   "id": "960979b0",
   "metadata": {},
   "source": [
    "### <font color='blue'> Question-4: Write a program in python to separate odd and even integers in separate arrays. Go to the editor</font>"
   ]
  },
  {
   "cell_type": "code",
   "execution_count": 18,
   "id": "785ccc03",
   "metadata": {},
   "outputs": [
    {
     "name": "stdout",
     "output_type": "stream",
     "text": [
      "Enter the length of the list: 5\n",
      "Element 1 : 42\n",
      "Element 2 : 49\n",
      "Element 3 : 47\n",
      "Element 4 : 42\n",
      "Element 5 : 41\n",
      "Odd numbers are:  [49, 47, 41]\n",
      "Even numbers are:  [42, 42]\n"
     ]
    }
   ],
   "source": [
    "# Enter the length of the list\n",
    "LengthOfList = int(input(\"Enter the length of the list: \"))\n",
    "\n",
    "OddNumberList = []\n",
    "EvenNumberList = []\n",
    "\n",
    "for i in range(LengthOfList):\n",
    "    val = int(input(\"Element {} : \".format(i+1))) # input the value\n",
    "    # Check the value that it is odd or even\n",
    "    if val % 2 == 0:\n",
    "        EvenNumberList.append(val)\n",
    "    else:\n",
    "        OddNumberList.append(val)\n",
    "        \n",
    "# Print Both List\n",
    "print('Odd numbers are: ', OddNumberList)\n",
    "print('Even numbers are: ', EvenNumberList)"
   ]
  },
  {
   "cell_type": "markdown",
   "id": "de30c68e",
   "metadata": {},
   "source": [
    "### <font color='blue'> Question-5</font>"
   ]
  },
  {
   "cell_type": "markdown",
   "id": "8da1ed22",
   "metadata": {},
   "source": [
    "#### <font color='green'> a) Write a function inside(x,y,x1,y1,x2,y2) that returns True or False depending on whether the point (x,y) lies in the rectangle with lower left corner (x1,y1) and upper right corner (x2,y2).</font>"
   ]
  },
  {
   "cell_type": "code",
   "execution_count": 19,
   "id": "162983d9",
   "metadata": {},
   "outputs": [
    {
     "name": "stdout",
     "output_type": "stream",
     "text": [
      "True\n",
      "False\n"
     ]
    }
   ],
   "source": [
    "# Function to check the point location on rectangle\n",
    "def inside( x, y, x1, y1, x2, y2):\n",
    "    if x1 <= x <= x2 and y1 <= y <= y2:\n",
    "        return True\n",
    "    else:\n",
    "        return False\n",
    "\n",
    "# Print the locations\n",
    "print(inside(2,4,0,0,8,10))\n",
    "print(inside(2,-4,0,0,8,10))"
   ]
  },
  {
   "cell_type": "markdown",
   "id": "00d83d54",
   "metadata": {},
   "source": [
    "#### <font color='green'> b) Use function inside() from part a. to write an expression that tests whether the point (1,1) lies in both of the following rectangles: one with lower left corner (0.3, 0.5) and upper right corner (1.1, 0.7) and the other with lower left corner (0.5, 0.2) and upper right corner (1.1, 2).</font>"
   ]
  },
  {
   "cell_type": "code",
   "execution_count": 20,
   "id": "15308652",
   "metadata": {},
   "outputs": [
    {
     "name": "stdout",
     "output_type": "stream",
     "text": [
      "False\n"
     ]
    }
   ],
   "source": [
    "# Take the point\n",
    "x,y = 1,1\n",
    "\n",
    "# Use Function inside from question 5 a)\n",
    "FirstRectangle = inside(x, y, 0.3, 0.5, 1.1, 0.7)\n",
    "SecondRectangle = inside(x, y, 0.5, 0.2, 1.1, 2)\n",
    "\n",
    "# print the result\n",
    "print( FirstRectangle and SecondRectangle )"
   ]
  },
  {
   "cell_type": "markdown",
   "id": "e8704fcb",
   "metadata": {},
   "source": [
    "### <font color=\"blue\"> Question-6: You can turn a word into pig-Latin using the following two rules (simplified): </font>\n",
    "#### <font color=\"green\"> • If the word starts with a consonant, move that letter to the end and append 'ay'. For example, 'happy' becomes 'appyhay' and 'pencil' becomes 'encilpay'.</font>\n",
    "#### <font color=\"green\"> • If the word starts with a vowel, simply append 'way' to the end of the word. For example, 'enter' becomes 'enterway' and 'other' becomes 'otherway' . For our purposes, there are 5 vowels: a, e, i, o, u (so we count y as a consonant).</font>\n",
    "#### <font color=\"green\"> Write a function pig() that takes a word (i.e., a string) as input and returns its pig-Latin form. Your function should still work if the input word contains upper case characters. Your output should always be lower case however.</font>"
   ]
  },
  {
   "cell_type": "code",
   "execution_count": 5,
   "id": "d721542d",
   "metadata": {},
   "outputs": [
    {
     "name": "stdout",
     "output_type": "stream",
     "text": [
      "Enter the word to convert it in pag-Latin: Punit\n",
      "punit\n",
      "The pig-latin word of Punit is unitpay\n"
     ]
    }
   ],
   "source": [
    "# Vowels Tupple\n",
    "Vowels = ( 'a', 'e', 'i', 'o', 'u')\n",
    "\n",
    "# Function to check the pig-Latin\n",
    "def pig(word):\n",
    "    name = word.lower()\n",
    "    print(name)\n",
    "    # Now check the first letter of the word\n",
    "    if (name[0] in Vowels):\n",
    "        return (name + 'way') # Return if first letter is vowel\n",
    "    else:\n",
    "        return(name[1:] + name[0] + 'ay') # Return if first letter is consonant\n",
    "    \n",
    "word = str(input(\"Enter the word to convert it in pag-Latin: \"))\n",
    "# call the pig function\n",
    "PigLatin = pig(word)\n",
    "\n",
    "# Print pig-latin word\n",
    "print('The pig-latin word of ' + word + ' is ' + PigLatin)"
   ]
  },
  {
   "cell_type": "markdown",
   "id": "0d94e0d6",
   "metadata": {},
   "source": [
    "### <font color='blue'> Question-7: File bloodtype1.txt records blood-types of patients (A, B, AB, O or OO) at a clinic. Write a function bldcount() that reads the file with name name and reports (i.e., prints) how many patients there are in each bloodtype.</font>"
   ]
  },
  {
   "cell_type": "code",
   "execution_count": 10,
   "id": "f4cfd2e2",
   "metadata": {},
   "outputs": [
    {
     "name": "stdout",
     "output_type": "stream",
     "text": [
      "There are 15 patients with blood type A.\n",
      "There is one patient with blood type B.\n",
      "There are 13 patients with blood type AB.\n",
      "There are 15 patients with blood type O.\n",
      "There are no patients with blood type OO.\n"
     ]
    }
   ],
   "source": [
    "def bldcount(FileName):\n",
    "    File = open(FileName,'r') # Open File in read mode\n",
    "    FileData = File.read()\n",
    "    File.close() # Close file\n",
    "    FinalData = FileData.split(' ')\n",
    "    CountBlood(FinalData,'A')\n",
    "    CountBlood(FinalData,'B')\n",
    "    CountBlood(FinalData,'AB')\n",
    "    CountBlood(FinalData,'O')\n",
    "    CountBlood(FinalData,'OO')\n",
    "    \n",
    "# Function to count the patients with asked bloodtype\n",
    "def CountBlood( Data, BloodType):\n",
    "    Count = Data.count(BloodType)\n",
    "    if( Count == 0 ):\n",
    "        print('There are no patients with blood type ' + BloodType + '.')\n",
    "    elif( Count == 1 ):\n",
    "        print('There is one patient with blood type ' + BloodType + '.')\n",
    "    else:\n",
    "        print('There are ' + str(Count) + ' patients with blood type ' + BloodType + '.')\n",
    "\n",
    "        \n",
    "# Call The Function\n",
    "bldcount('bloodtype1.txt')"
   ]
  },
  {
   "cell_type": "markdown",
   "id": "828acca7",
   "metadata": {},
   "source": [
    "### <font color='blue'> Question-8: Write a function curconv() that takes as input: <br>1. a currency represented using a string (e.g., 'JPY' for the Japanese Yen or 'EUR' for the Euro) <br>2. an amount <br>and then converts and returns the amount in US dollars. </font>"
   ]
  },
  {
   "cell_type": "code",
   "execution_count": 1,
   "id": "224fbca0",
   "metadata": {},
   "outputs": [
    {
     "name": "stdout",
     "output_type": "stream",
     "text": [
      "Enter the country code: eur\n",
      "Enter the amount you want to convert: 100\n",
      "The conversion of 100 Euro to U.S. Dollar is 122.96544\n"
     ]
    }
   ],
   "source": [
    "def curconv( CountryCode, Amount):\n",
    "    File = open('currencies.txt','r') # Open File in read mode\n",
    "    FileData = File.read()\n",
    "    File.close() # Close file\n",
    "    FinalData = FileData.split('\\n')\n",
    "    FinalList = []\n",
    "    for i in FinalData:\n",
    "        FinalList.append(i.split('\\t'))\n",
    "    for j in FinalList:\n",
    "        if ( CountryCode.upper() in j ):\n",
    "            ConvertAmount = Amount * float(j[1]) # Convert Amount\n",
    "            print('The conversion of ' + str(Amount) + ' ' + j[2] + ' to U.S. Dollar is ' + str(ConvertAmount))\n",
    "    \n",
    "\n",
    "    \n",
    "CountryCode = str(input('Enter the country code: '))\n",
    "Amount = int(input('Enter the amount you want to convert: '))\n",
    "# Call the function\n",
    "curconv( CountryCode, Amount)"
   ]
  },
  {
   "cell_type": "markdown",
   "id": "cc0666bc",
   "metadata": {},
   "source": [
    "### <font color='blue'> Question-9: Each of the following will cause an exception (an error). Identify what type of exception each will cause.</font>"
   ]
  },
  {
   "cell_type": "markdown",
   "id": "1f924896",
   "metadata": {},
   "source": [
    "#### <font color='green'> a) Trying to add incompatible variables, as in <br>adding 6 + ‘a’ </font>"
   ]
  },
  {
   "cell_type": "code",
   "execution_count": 54,
   "id": "b33a6ccc",
   "metadata": {},
   "outputs": [
    {
     "name": "stdout",
     "output_type": "stream",
     "text": [
      "Error: unsupported operand type(s) for +: 'int' and 'str'\n"
     ]
    }
   ],
   "source": [
    "try:\n",
    "    print( 6 + 'a' )\n",
    "except Exception as ex:\n",
    "    print('Error: ' + str(ex))"
   ]
  },
  {
   "cell_type": "markdown",
   "id": "80eff367",
   "metadata": {},
   "source": [
    "#### <font color='green'> b) Referring to the 12th item of a list that has only 10 items</font>"
   ]
  },
  {
   "cell_type": "code",
   "execution_count": 55,
   "id": "eb1b91fb",
   "metadata": {},
   "outputs": [
    {
     "name": "stdout",
     "output_type": "stream",
     "text": [
      "Error: list index out of range\n"
     ]
    }
   ],
   "source": [
    "List = [15, 14, 12, 17, 16, 13 ,10, 11, 18, 19]\n",
    "try:\n",
    "    print(List[12])\n",
    "except Exception as ex:\n",
    "    print('Error: ' + str(ex))"
   ]
  },
  {
   "cell_type": "markdown",
   "id": "6a9fa98e",
   "metadata": {},
   "source": [
    "#### <font color='green'> c) Using a value that is out of range for a function’s input, such as calling math.sqrt( 1.0)</font>"
   ]
  },
  {
   "cell_type": "code",
   "execution_count": 56,
   "id": "afa51ac4",
   "metadata": {},
   "outputs": [
    {
     "name": "stdout",
     "output_type": "stream",
     "text": [
      "Error: math domain error\n"
     ]
    }
   ],
   "source": [
    "import math\n",
    "try:\n",
    "    print(math.sqrt(-1.0))\n",
    "except Exception as ex:\n",
    "    print('Error: ' + str(ex))"
   ]
  },
  {
   "cell_type": "markdown",
   "id": "b24e6476",
   "metadata": {},
   "source": [
    "#### <font color='green'> d) Using an undeclared variable, such as print(x) when x has not been defined</font>"
   ]
  },
  {
   "cell_type": "code",
   "execution_count": 57,
   "id": "5d32e7f9",
   "metadata": {},
   "outputs": [
    {
     "name": "stdout",
     "output_type": "stream",
     "text": [
      "Error: name 'NewValue' is not defined\n"
     ]
    }
   ],
   "source": [
    "try:\n",
    "    print( NewValue )\n",
    "except Exception as ex:\n",
    "    print('Error: ' + str(ex))"
   ]
  },
  {
   "cell_type": "markdown",
   "id": "0e001177",
   "metadata": {},
   "source": [
    "#### <font color='green'> e) Trying to open a file that does not exist, such as mistyping the file name or looking in the wrong directory.</font>"
   ]
  },
  {
   "cell_type": "code",
   "execution_count": 61,
   "id": "4a359524",
   "metadata": {},
   "outputs": [
    {
     "name": "stdout",
     "output_type": "stream",
     "text": [
      "Error: [Errno 2] No such file or directory: 'bloodtype2.txt'\n"
     ]
    }
   ],
   "source": [
    "try:\n",
    "    file = open('bloodtype2.txt','r')\n",
    "    FileRead = file.read()\n",
    "    file.close()\n",
    "except Exception as ex:\n",
    "    print('Error: ' + str(ex))"
   ]
  },
  {
   "cell_type": "markdown",
   "id": "f8f4ee14",
   "metadata": {},
   "source": [
    "### <font color='blue'>Question-10: Encryption is the process of hiding the meaning of a text by substituting letters in the message with other letters, according to some system. If the process is successful, no one but the intended recipient can understand the encrypted message. Cryptanalysis refers to attempts to undo the encryption, even if some details of the encryption are unknown (for example, if an encrypted message has been intercepted). The first step of cryptanalysis is often to build up a table of letter frequencies in the encrypted text. Assume that the string letters is already defined as<br> 'abcdefghijklmnopqrstuvwxyz'. Write a function called frequencies() that takes a string as its only parameter, and returns a list of integers, showing the number of times each character appears in the text. Your function may ignore any characters that are not in letters.</font> "
   ]
  },
  {
   "cell_type": "code",
   "execution_count": 2,
   "id": "5d1f3cea",
   "metadata": {
    "scrolled": true
   },
   "outputs": [
    {
     "name": "stdout",
     "output_type": "stream",
     "text": [
      "The quick red fox got bored and went home.\n",
      "Output: 1, 1, 1, 3, 5, 1, 1, 2, 1, 0, 1, 0, 1, 2, 4, 0, 1, 2, 0, 3, 1, 0, 1, 1, 0, 0, \n",
      "\n",
      "Patel Punit Diliplal\n",
      "Output: 2, 0, 0, 1, 1, 0, 0, 0, 3, 0, 0, 4, 0, 1, 0, 3, 0, 0, 0, 2, 1, 0, 0, 0, 0, 0, \n",
      "\n",
      "Georgian College of Applied Arts and Technology\n",
      "Output: 4, 0, 2, 2, 5, 1, 4, 1, 2, 0, 0, 4, 0, 3, 5, 2, 0, 2, 1, 2, 0, 0, 0, 0, 1, 0, \n",
      "\n",
      "A quick brown fox jumps over the lazy dog\n",
      "Output: 2, 1, 1, 1, 2, 1, 1, 1, 1, 1, 1, 1, 1, 1, 4, 1, 1, 2, 1, 1, 2, 1, 1, 1, 1, 1, \n",
      "\n"
     ]
    }
   ],
   "source": [
    "def frequencies(Sentence):\n",
    "    Alphabets = ['a', 'b', 'c', 'd', 'e', 'f', 'g', 'h', 'i', 'j', 'k', 'l', 'm', 'n', 'o', 'p', 'q', 'r', 's', 't', 'u', 'v', 'w', 'x', 'y', 'z']\n",
    "    Word = Sentence.lower()\n",
    "    for char in Alphabets:\n",
    "        CountAlphabet = Word.count(char)\n",
    "        print(CountAlphabet, end=', ')\n",
    "    print('\\n')\n",
    "\n",
    "print('The quick red fox got bored and went home.')\n",
    "print('Output:', end=' ')\n",
    "frequencies('The quick red fox got bored and went home.')\n",
    "print('Patel Punit Diliplal')\n",
    "print('Output:', end=' ')\n",
    "frequencies('Punit Diliplal Patel')\n",
    "print('Georgian College of Applied Arts and Technology')\n",
    "print('Output:', end=' ')\n",
    "frequencies('Georgian College of Applied Arts and Technology')\n",
    "print('A quick brown fox jumps over the lazy dog')\n",
    "print('Output:', end=' ')\n",
    "frequencies('A quick brown fox jumps over the lazy dog')"
   ]
  }
 ],
 "metadata": {
  "kernelspec": {
   "display_name": "Python 3 (ipykernel)",
   "language": "python",
   "name": "python3"
  },
  "language_info": {
   "codemirror_mode": {
    "name": "ipython",
    "version": 3
   },
   "file_extension": ".py",
   "mimetype": "text/x-python",
   "name": "python",
   "nbconvert_exporter": "python",
   "pygments_lexer": "ipython3",
   "version": "3.9.13"
  }
 },
 "nbformat": 4,
 "nbformat_minor": 5
}
